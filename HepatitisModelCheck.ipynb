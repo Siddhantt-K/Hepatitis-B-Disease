{
 "cells": [
  {
   "cell_type": "code",
   "execution_count": 1,
   "id": "6e5b6234",
   "metadata": {},
   "outputs": [],
   "source": [
    "# Loading our EDA packages\n",
    "import pandas as pd\n",
    "import numpy as np"
   ]
  },
  {
   "cell_type": "code",
   "execution_count": 2,
   "id": "7d08a821",
   "metadata": {},
   "outputs": [],
   "source": [
    "# Loading data viz packages\n",
    "import matplotlib.pyplot as plt\n",
    "import seaborn as sns"
   ]
  },
  {
   "cell_type": "code",
   "execution_count": 3,
   "id": "f3fc4085",
   "metadata": {},
   "outputs": [
    {
     "data": {
      "text/html": [
       "<div>\n",
       "<style scoped>\n",
       "    .dataframe tbody tr th:only-of-type {\n",
       "        vertical-align: middle;\n",
       "    }\n",
       "\n",
       "    .dataframe tbody tr th {\n",
       "        vertical-align: top;\n",
       "    }\n",
       "\n",
       "    .dataframe thead th {\n",
       "        text-align: right;\n",
       "    }\n",
       "</style>\n",
       "<table border=\"1\" class=\"dataframe\">\n",
       "  <thead>\n",
       "    <tr style=\"text-align: right;\">\n",
       "      <th></th>\n",
       "      <th>Unnamed: 0</th>\n",
       "      <th>class</th>\n",
       "      <th>age</th>\n",
       "      <th>sex</th>\n",
       "      <th>steroid</th>\n",
       "      <th>antivirals</th>\n",
       "      <th>fatigue</th>\n",
       "      <th>malaise</th>\n",
       "      <th>anorexia</th>\n",
       "      <th>liver_big</th>\n",
       "      <th>...</th>\n",
       "      <th>spleen_palpable</th>\n",
       "      <th>spiders</th>\n",
       "      <th>ascites</th>\n",
       "      <th>varices</th>\n",
       "      <th>bilirubin</th>\n",
       "      <th>alk_phosphate</th>\n",
       "      <th>sgot</th>\n",
       "      <th>albumin</th>\n",
       "      <th>protime</th>\n",
       "      <th>histology</th>\n",
       "    </tr>\n",
       "  </thead>\n",
       "  <tbody>\n",
       "    <tr>\n",
       "      <th>0</th>\n",
       "      <td>0</td>\n",
       "      <td>2</td>\n",
       "      <td>30</td>\n",
       "      <td>2</td>\n",
       "      <td>1</td>\n",
       "      <td>2</td>\n",
       "      <td>2</td>\n",
       "      <td>2</td>\n",
       "      <td>2</td>\n",
       "      <td>1</td>\n",
       "      <td>...</td>\n",
       "      <td>2</td>\n",
       "      <td>2</td>\n",
       "      <td>2</td>\n",
       "      <td>2</td>\n",
       "      <td>1.0</td>\n",
       "      <td>85</td>\n",
       "      <td>18</td>\n",
       "      <td>4.0</td>\n",
       "      <td>35</td>\n",
       "      <td>1</td>\n",
       "    </tr>\n",
       "    <tr>\n",
       "      <th>1</th>\n",
       "      <td>1</td>\n",
       "      <td>2</td>\n",
       "      <td>50</td>\n",
       "      <td>1</td>\n",
       "      <td>1</td>\n",
       "      <td>2</td>\n",
       "      <td>1</td>\n",
       "      <td>2</td>\n",
       "      <td>2</td>\n",
       "      <td>1</td>\n",
       "      <td>...</td>\n",
       "      <td>2</td>\n",
       "      <td>2</td>\n",
       "      <td>2</td>\n",
       "      <td>2</td>\n",
       "      <td>0.9</td>\n",
       "      <td>135</td>\n",
       "      <td>42</td>\n",
       "      <td>3.5</td>\n",
       "      <td>35</td>\n",
       "      <td>1</td>\n",
       "    </tr>\n",
       "    <tr>\n",
       "      <th>2</th>\n",
       "      <td>2</td>\n",
       "      <td>2</td>\n",
       "      <td>78</td>\n",
       "      <td>1</td>\n",
       "      <td>2</td>\n",
       "      <td>2</td>\n",
       "      <td>1</td>\n",
       "      <td>2</td>\n",
       "      <td>2</td>\n",
       "      <td>2</td>\n",
       "      <td>...</td>\n",
       "      <td>2</td>\n",
       "      <td>2</td>\n",
       "      <td>2</td>\n",
       "      <td>2</td>\n",
       "      <td>0.7</td>\n",
       "      <td>96</td>\n",
       "      <td>32</td>\n",
       "      <td>4.0</td>\n",
       "      <td>35</td>\n",
       "      <td>1</td>\n",
       "    </tr>\n",
       "    <tr>\n",
       "      <th>3</th>\n",
       "      <td>3</td>\n",
       "      <td>2</td>\n",
       "      <td>31</td>\n",
       "      <td>1</td>\n",
       "      <td>2</td>\n",
       "      <td>1</td>\n",
       "      <td>2</td>\n",
       "      <td>2</td>\n",
       "      <td>2</td>\n",
       "      <td>2</td>\n",
       "      <td>...</td>\n",
       "      <td>2</td>\n",
       "      <td>2</td>\n",
       "      <td>2</td>\n",
       "      <td>2</td>\n",
       "      <td>0.7</td>\n",
       "      <td>46</td>\n",
       "      <td>52</td>\n",
       "      <td>4.0</td>\n",
       "      <td>80</td>\n",
       "      <td>1</td>\n",
       "    </tr>\n",
       "    <tr>\n",
       "      <th>4</th>\n",
       "      <td>4</td>\n",
       "      <td>2</td>\n",
       "      <td>34</td>\n",
       "      <td>1</td>\n",
       "      <td>2</td>\n",
       "      <td>2</td>\n",
       "      <td>2</td>\n",
       "      <td>2</td>\n",
       "      <td>2</td>\n",
       "      <td>2</td>\n",
       "      <td>...</td>\n",
       "      <td>2</td>\n",
       "      <td>2</td>\n",
       "      <td>2</td>\n",
       "      <td>2</td>\n",
       "      <td>1.0</td>\n",
       "      <td>84</td>\n",
       "      <td>200</td>\n",
       "      <td>4.0</td>\n",
       "      <td>35</td>\n",
       "      <td>1</td>\n",
       "    </tr>\n",
       "  </tbody>\n",
       "</table>\n",
       "<p>5 rows × 21 columns</p>\n",
       "</div>"
      ],
      "text/plain": [
       "   Unnamed: 0  class  age  sex  steroid  antivirals  fatigue  malaise  \\\n",
       "0           0      2   30    2        1           2        2        2   \n",
       "1           1      2   50    1        1           2        1        2   \n",
       "2           2      2   78    1        2           2        1        2   \n",
       "3           3      2   31    1        2           1        2        2   \n",
       "4           4      2   34    1        2           2        2        2   \n",
       "\n",
       "   anorexia  liver_big  ...  spleen_palpable  spiders  ascites  varices  \\\n",
       "0         2          1  ...                2        2        2        2   \n",
       "1         2          1  ...                2        2        2        2   \n",
       "2         2          2  ...                2        2        2        2   \n",
       "3         2          2  ...                2        2        2        2   \n",
       "4         2          2  ...                2        2        2        2   \n",
       "\n",
       "   bilirubin  alk_phosphate  sgot  albumin  protime  histology  \n",
       "0        1.0             85    18      4.0       35          1  \n",
       "1        0.9            135    42      3.5       35          1  \n",
       "2        0.7             96    32      4.0       35          1  \n",
       "3        0.7             46    52      4.0       80          1  \n",
       "4        1.0             84   200      4.0       35          1  \n",
       "\n",
       "[5 rows x 21 columns]"
      ]
     },
     "execution_count": 3,
     "metadata": {},
     "output_type": "execute_result"
    }
   ],
   "source": [
    "df = pd.read_csv(\"D:\\Softwares\\DS\\Project\\Hepatitis\\Original data\\clean_data.csv\")\n",
    "df.head()"
   ]
  },
  {
   "cell_type": "code",
   "execution_count": 4,
   "id": "431148f4",
   "metadata": {},
   "outputs": [],
   "source": [
    "features_best = df[['age', 'sex', 'steroid', 'antivirals', 'fatigue','spiders', 'ascites',\n",
    "                   'varices', 'bilirubin', 'alk_phosphate', 'sgot', 'albumin', 'protime',\n",
    "                   'histology']]\n",
    "labels = df['class']"
   ]
  },
  {
   "cell_type": "code",
   "execution_count": 5,
   "id": "546dafcf",
   "metadata": {},
   "outputs": [],
   "source": [
    "# Feature Scaling\n",
    "\n",
    "from sklearn.preprocessing import StandardScaler\n",
    "sc = StandardScaler()\n",
    "scaled_features_best = sc.fit_transform(features_best)"
   ]
  },
  {
   "cell_type": "code",
   "execution_count": 6,
   "id": "d612a0ee",
   "metadata": {},
   "outputs": [],
   "source": [
    "# Importing algorithms and essential metrics\n",
    "\n",
    "from sklearn.linear_model import LogisticRegression\n",
    "from sklearn.neighbors import KNeighborsClassifier\n",
    "from sklearn.ensemble import RandomForestClassifier\n",
    "from sklearn.metrics import confusion_matrix, classification_report, accuracy_score"
   ]
  },
  {
   "cell_type": "code",
   "execution_count": 7,
   "id": "66e05b90",
   "metadata": {},
   "outputs": [],
   "source": [
    "# Creating object of algorithms\n",
    "\n",
    "LR = LogisticRegression()\n",
    "KNN = KNeighborsClassifier(n_neighbors=12, p=2)\n",
    "RF = RandomForestClassifier(n_estimators=10, criterion='entropy', min_samples_leaf=2, random_state=2)\n"
   ]
  },
  {
   "cell_type": "code",
   "execution_count": 8,
   "id": "f81e1a59",
   "metadata": {},
   "outputs": [],
   "source": [
    "# KFold\n",
    "\n",
    "from sklearn.model_selection import KFold\n",
    "from sklearn.model_selection import cross_val_score\n",
    "\n",
    "kfold_validation = KFold(5)"
   ]
  },
  {
   "cell_type": "code",
   "execution_count": 9,
   "id": "b1f90a28",
   "metadata": {},
   "outputs": [
    {
     "name": "stdout",
     "output_type": "stream",
     "text": [
      "[0.90322581 0.90322581 0.90322581 0.70967742 0.77419355]\n",
      "0.8387096774193548\n",
      "[0.93548387 0.90322581 0.90322581 0.77419355 0.67741935]\n",
      "0.8387096774193548\n",
      "[0.93548387 0.90322581 0.80645161 0.70967742 0.80645161]\n",
      "0.832258064516129\n"
     ]
    }
   ],
   "source": [
    "# Computing accuracy using KFold\n",
    "\n",
    "# Using Logistic\n",
    "\n",
    "log1 = cross_val_score(LR, scaled_features_best, labels, cv = kfold_validation)\n",
    "print(log1)\n",
    "print(np.mean(log1))\n",
    "\n",
    "# Using KNN\n",
    "\n",
    "knn1 = cross_val_score(KNN, scaled_features_best, labels, cv = kfold_validation)\n",
    "print(knn1)\n",
    "print(np.mean(knn1))\n",
    "\n",
    "# Using Random Forest\n",
    "\n",
    "rf1 = cross_val_score(RF, scaled_features_best, labels, cv = kfold_validation)\n",
    "print(rf1)\n",
    "print(np.mean(rf1))\n",
    "\n",
    "\n",
    "# (Since the dataset is imbalanced we can't go with accuracy score)"
   ]
  },
  {
   "cell_type": "code",
   "execution_count": 10,
   "id": "b05e5a4f",
   "metadata": {},
   "outputs": [],
   "source": [
    "# Train test split\n",
    "\n",
    "from sklearn.model_selection import train_test_split\n",
    "X_train,X_test, y_train,y_test = train_test_split(scaled_features_best, labels, random_state=26)"
   ]
  },
  {
   "cell_type": "code",
   "execution_count": 11,
   "id": "9322c1f7",
   "metadata": {},
   "outputs": [],
   "source": [
    "target_names = ['Die', 'Live']"
   ]
  },
  {
   "cell_type": "code",
   "execution_count": 12,
   "id": "5c9e134a",
   "metadata": {},
   "outputs": [
    {
     "name": "stdout",
     "output_type": "stream",
     "text": [
      "[[ 8  2]\n",
      " [ 3 26]]\n",
      "0.8706896551724138\n",
      "0.8717948717948718\n",
      "              precision    recall  f1-score   support\n",
      "\n",
      "         Die       0.73      0.80      0.76        10\n",
      "        Live       0.93      0.90      0.91        29\n",
      "\n",
      "    accuracy                           0.87        39\n",
      "   macro avg       0.83      0.85      0.84        39\n",
      "weighted avg       0.88      0.87      0.87        39\n",
      "\n"
     ]
    }
   ],
   "source": [
    "# LR\n",
    "\n",
    "LR.fit(X_train, y_train)\n",
    "lr1pred = LR.predict(X_test)\n",
    "print(confusion_matrix(y_test, lr1pred))\n",
    "\n",
    "print(LR.score(X_train, y_train))\n",
    "print(LR.score(X_test, y_test))\n",
    "\n",
    "from sklearn.metrics import classification_report \n",
    "print(classification_report(y_test, lr1pred, target_names=target_names))"
   ]
  },
  {
   "cell_type": "code",
   "execution_count": 13,
   "id": "6fc88c7a",
   "metadata": {},
   "outputs": [
    {
     "name": "stdout",
     "output_type": "stream",
     "text": [
      "[[ 8  2]\n",
      " [ 2 27]]\n",
      "0.853448275862069\n",
      "0.8974358974358975\n",
      "              precision    recall  f1-score   support\n",
      "\n",
      "         Die       0.80      0.80      0.80        10\n",
      "        Live       0.93      0.93      0.93        29\n",
      "\n",
      "    accuracy                           0.90        39\n",
      "   macro avg       0.87      0.87      0.87        39\n",
      "weighted avg       0.90      0.90      0.90        39\n",
      "\n"
     ]
    }
   ],
   "source": [
    "# KNN\n",
    "\n",
    "KNN.fit(X_train, y_train)\n",
    "knn1pred = KNN.predict(X_test)\n",
    "print(confusion_matrix(y_test, knn1pred))\n",
    "\n",
    "print(KNN.score(X_train, y_train))\n",
    "print(KNN.score(X_test, y_test))\n",
    "\n",
    "from sklearn.metrics import classification_report \n",
    "print(classification_report(y_test, knn1pred, target_names=target_names))"
   ]
  },
  {
   "cell_type": "code",
   "execution_count": 14,
   "id": "2db94737",
   "metadata": {},
   "outputs": [
    {
     "name": "stdout",
     "output_type": "stream",
     "text": [
      "[[ 8  2]\n",
      " [ 5 24]]\n",
      "0.9827586206896551\n",
      "0.8205128205128205\n",
      "              precision    recall  f1-score   support\n",
      "\n",
      "         Die       0.62      0.80      0.70        10\n",
      "        Live       0.92      0.83      0.87        29\n",
      "\n",
      "    accuracy                           0.82        39\n",
      "   macro avg       0.77      0.81      0.78        39\n",
      "weighted avg       0.84      0.82      0.83        39\n",
      "\n"
     ]
    }
   ],
   "source": [
    "# RF\n",
    "\n",
    "RF.fit(X_train, y_train)\n",
    "rf1pred = RF.predict(X_test)\n",
    "print(confusion_matrix(y_test, rf1pred))\n",
    "\n",
    "print(RF.score(X_train, y_train))\n",
    "print(RF.score(X_test, y_test))\n",
    "\n",
    "from sklearn.metrics import classification_report \n",
    "print(classification_report(y_test, rf1pred, target_names=target_names))"
   ]
  },
  {
   "cell_type": "code",
   "execution_count": 15,
   "id": "742cedcf",
   "metadata": {},
   "outputs": [],
   "source": [
    "# Plotting confusion matrix for KNN\n",
    "\n",
    "\n",
    "#from sklearn.metrics import plot_confusion_matrix\n",
    "#plot_confusion_matrix(KNN, X_test, y_test)\n"
   ]
  },
  {
   "cell_type": "code",
   "execution_count": 16,
   "id": "92afa5cd",
   "metadata": {},
   "outputs": [],
   "source": [
    "# Handling imbalanced dataset using either Under Sampling or Over Sampling"
   ]
  },
  {
   "cell_type": "code",
   "execution_count": 17,
   "id": "30dc2b3e",
   "metadata": {},
   "outputs": [],
   "source": [
    "from collections import Counter #to count the no. of labels"
   ]
  },
  {
   "cell_type": "code",
   "execution_count": 18,
   "id": "16f8ce5f",
   "metadata": {},
   "outputs": [
    {
     "name": "stdout",
     "output_type": "stream",
     "text": [
      "No. of classes before under sampling Counter({2: 123, 1: 32})\n",
      "No. of classes after under sampling Counter({1: 32, 2: 32})\n"
     ]
    }
   ],
   "source": [
    "# Under Sampling\n",
    "\n",
    "from imblearn.under_sampling import NearMiss\n",
    "nm = NearMiss()\n",
    "feature_under_sample, label_under_sample = nm.fit_resample(scaled_features_best, labels)\n",
    "\n",
    "print(\"No. of classes before under sampling {}\".format(Counter(labels)))\n",
    "print(\"No. of classes after under sampling {}\".format(Counter(label_under_sample)))\n"
   ]
  },
  {
   "cell_type": "code",
   "execution_count": 19,
   "id": "16a6ae57",
   "metadata": {},
   "outputs": [
    {
     "name": "stdout",
     "output_type": "stream",
     "text": [
      "[0.4        0.66666667 0.77777778 0.44444444 0.88888889 0.55555556\n",
      " 0.66666667]\n",
      "0.6285714285714287\n",
      "[0.3        0.55555556 0.66666667 0.55555556 0.77777778 0.55555556\n",
      " 0.77777778]\n",
      "0.5984126984126983\n",
      "[0.4        0.44444444 0.77777778 0.66666667 0.44444444 0.55555556\n",
      " 0.77777778]\n",
      "0.5809523809523809\n"
     ]
    }
   ],
   "source": [
    "# Computing accuracy using KFold for Under Sampling data\n",
    "kfold_validation = KFold(7)\n",
    "\n",
    "# Using Logistic\n",
    "\n",
    "log2 = cross_val_score(LR, feature_under_sample, label_under_sample, cv = kfold_validation)\n",
    "print(log2)\n",
    "print(np.mean(log2))\n",
    "\n",
    "# Using KNN\n",
    "\n",
    "knn2 = cross_val_score(KNN, feature_under_sample, label_under_sample, cv = kfold_validation)\n",
    "print(knn2)\n",
    "print(np.mean(knn2))\n",
    "\n",
    "# Using Random Forest\n",
    "\n",
    "rf2 = cross_val_score(RF, feature_under_sample, label_under_sample, cv = kfold_validation)\n",
    "print(rf2)\n",
    "print(np.mean(rf2))\n"
   ]
  },
  {
   "cell_type": "code",
   "execution_count": 20,
   "id": "dd501a86",
   "metadata": {},
   "outputs": [],
   "source": [
    "# Building model for Under sampling technique\n",
    "\n",
    "Xunder_train, Xunder_test, yunder_train, yunder_test = train_test_split(feature_under_sample, label_under_sample, test_size=0.3, random_state=42) \n"
   ]
  },
  {
   "cell_type": "code",
   "execution_count": 21,
   "id": "a409794b",
   "metadata": {},
   "outputs": [
    {
     "name": "stdout",
     "output_type": "stream",
     "text": [
      "[[4 6]\n",
      " [2 8]]\n",
      "0.9318181818181818\n",
      "0.6\n",
      "              precision    recall  f1-score   support\n",
      "\n",
      "         Die       0.67      0.40      0.50        10\n",
      "        Live       0.57      0.80      0.67        10\n",
      "\n",
      "    accuracy                           0.60        20\n",
      "   macro avg       0.62      0.60      0.58        20\n",
      "weighted avg       0.62      0.60      0.58        20\n",
      "\n"
     ]
    }
   ],
   "source": [
    "# LR for Under Sampling technique\n",
    "\n",
    "LR.fit(Xunder_train, yunder_train)\n",
    "lr2pred = LR.predict(Xunder_test)\n",
    "print(confusion_matrix(yunder_test, lr2pred))\n",
    "\n",
    "print(LR.score(Xunder_train, yunder_train))\n",
    "print(LR.score(Xunder_test, yunder_test))\n",
    "\n",
    "from sklearn.metrics import classification_report \n",
    "print(classification_report(yunder_test, lr2pred, target_names=target_names))"
   ]
  },
  {
   "cell_type": "code",
   "execution_count": 22,
   "id": "4f3133b0",
   "metadata": {},
   "outputs": [
    {
     "name": "stdout",
     "output_type": "stream",
     "text": [
      "[[5 5]\n",
      " [1 9]]\n",
      "0.8409090909090909\n",
      "0.7\n",
      "              precision    recall  f1-score   support\n",
      "\n",
      "         Die       0.83      0.50      0.62        10\n",
      "        Live       0.64      0.90      0.75        10\n",
      "\n",
      "    accuracy                           0.70        20\n",
      "   macro avg       0.74      0.70      0.69        20\n",
      "weighted avg       0.74      0.70      0.69        20\n",
      "\n"
     ]
    }
   ],
   "source": [
    "# KNN for Under Sampling technique\n",
    "\n",
    "KNN.fit(Xunder_train, yunder_train)\n",
    "knn2pred = KNN.predict(Xunder_test)\n",
    "print(confusion_matrix(yunder_test, knn2pred))\n",
    "\n",
    "print(KNN.score(Xunder_train, yunder_train))\n",
    "print(KNN.score(Xunder_test, yunder_test))\n",
    "\n",
    "from sklearn.metrics import classification_report \n",
    "print(classification_report(yunder_test, knn2pred, target_names=target_names))"
   ]
  },
  {
   "cell_type": "code",
   "execution_count": 23,
   "id": "ba14afe8",
   "metadata": {},
   "outputs": [
    {
     "name": "stdout",
     "output_type": "stream",
     "text": [
      "[[6 4]\n",
      " [1 9]]\n",
      "0.9772727272727273\n",
      "0.75\n",
      "              precision    recall  f1-score   support\n",
      "\n",
      "         Die       0.86      0.60      0.71        10\n",
      "        Live       0.69      0.90      0.78        10\n",
      "\n",
      "    accuracy                           0.75        20\n",
      "   macro avg       0.77      0.75      0.74        20\n",
      "weighted avg       0.77      0.75      0.74        20\n",
      "\n"
     ]
    }
   ],
   "source": [
    "# RF for Under Sampling technique\n",
    "\n",
    "RF.fit(Xunder_train, yunder_train)\n",
    "rf2pred = RF.predict(Xunder_test)\n",
    "print(confusion_matrix(yunder_test, rf2pred))\n",
    "\n",
    "print(RF.score(Xunder_train, yunder_train))\n",
    "print(RF.score(Xunder_test, yunder_test))\n",
    "\n",
    "from sklearn.metrics import classification_report \n",
    "print(classification_report(yunder_test, rf2pred, target_names=target_names))"
   ]
  },
  {
   "cell_type": "code",
   "execution_count": null,
   "id": "138df610",
   "metadata": {},
   "outputs": [],
   "source": []
  },
  {
   "cell_type": "code",
   "execution_count": 24,
   "id": "584b86b6",
   "metadata": {},
   "outputs": [
    {
     "name": "stdout",
     "output_type": "stream",
     "text": [
      "No. of classes before over sampling Counter({2: 123, 1: 32})\n",
      "No. of classes after over sampling Counter({2: 123, 1: 123})\n"
     ]
    }
   ],
   "source": [
    "# Over Sampling\n",
    "\n",
    "from imblearn.over_sampling import RandomOverSampler\n",
    "ros = RandomOverSampler()\n",
    "feature_over_sample, label_over_sample = ros.fit_resample(scaled_features_best, labels)\n",
    "\n",
    "print(\"No. of classes before over sampling {}\".format(Counter(labels)))\n",
    "print(\"No. of classes after over sampling {}\".format(Counter(label_over_sample)))\n"
   ]
  },
  {
   "cell_type": "code",
   "execution_count": 25,
   "id": "b21bf84e",
   "metadata": {},
   "outputs": [
    {
     "name": "stdout",
     "output_type": "stream",
     "text": [
      "[0.88888889 0.85714286 0.8        0.65714286 0.8        0.8\n",
      " 0.88571429]\n",
      "0.8126984126984126\n",
      "[0.83333333 0.85714286 0.77142857 0.65714286 0.77142857 0.85714286\n",
      " 0.88571429]\n",
      "0.8047619047619047\n",
      "[0.91666667 0.85714286 0.88571429 0.71428571 0.97142857 0.91428571\n",
      " 1.        ]\n",
      "0.832258064516129\n"
     ]
    }
   ],
   "source": [
    "# Computing accuracy using KFold for Over Sampling data\n",
    "kfold_validation = KFold(7)\n",
    "\n",
    "# Using Logistic\n",
    "\n",
    "log3 = cross_val_score(LR, feature_over_sample, label_over_sample, cv = kfold_validation)\n",
    "print(log3)\n",
    "print(np.mean(log3))\n",
    "\n",
    "# Using KNN\n",
    "\n",
    "knn3 = cross_val_score(KNN, feature_over_sample, label_over_sample, cv = kfold_validation)\n",
    "print(knn3)\n",
    "print(np.mean(knn3))\n",
    "\n",
    "# Using Random Forest\n",
    "\n",
    "rf3 = cross_val_score(RF, feature_over_sample, label_over_sample, cv = kfold_validation)\n",
    "print(rf3)\n",
    "print(np.mean(rf1))\n"
   ]
  },
  {
   "cell_type": "code",
   "execution_count": 26,
   "id": "ae0b8e79",
   "metadata": {},
   "outputs": [],
   "source": [
    "# Building model for Over sampling technique\n",
    "\n",
    "Xover_train, Xover_test, yover_train, yover_test = train_test_split(feature_over_sample, label_over_sample, test_size=0.3, random_state=42) \n"
   ]
  },
  {
   "cell_type": "code",
   "execution_count": 27,
   "id": "ee68177a",
   "metadata": {},
   "outputs": [
    {
     "name": "stdout",
     "output_type": "stream",
     "text": [
      "[[35  6]\n",
      " [ 6 27]]\n",
      "0.8546511627906976\n",
      "0.8378378378378378\n",
      "              precision    recall  f1-score   support\n",
      "\n",
      "         Die       0.85      0.85      0.85        41\n",
      "        Live       0.82      0.82      0.82        33\n",
      "\n",
      "    accuracy                           0.84        74\n",
      "   macro avg       0.84      0.84      0.84        74\n",
      "weighted avg       0.84      0.84      0.84        74\n",
      "\n"
     ]
    }
   ],
   "source": [
    "# LR for Over Sampling technique\n",
    "\n",
    "LR.fit(Xover_train, yover_train)\n",
    "lr3pred = LR.predict(Xover_test)\n",
    "print(confusion_matrix(yover_test, lr3pred))\n",
    "\n",
    "print(LR.score(Xover_train, yover_train))\n",
    "print(LR.score(Xover_test, yover_test))\n",
    "\n",
    "from sklearn.metrics import classification_report \n",
    "print(classification_report(yover_test, lr3pred, target_names=target_names))"
   ]
  },
  {
   "cell_type": "code",
   "execution_count": 28,
   "id": "b4f8d9fe",
   "metadata": {},
   "outputs": [
    {
     "name": "stdout",
     "output_type": "stream",
     "text": [
      "[[33  8]\n",
      " [ 6 27]]\n",
      "0.8255813953488372\n",
      "0.8108108108108109\n",
      "              precision    recall  f1-score   support\n",
      "\n",
      "         Die       0.85      0.80      0.83        41\n",
      "        Live       0.77      0.82      0.79        33\n",
      "\n",
      "    accuracy                           0.81        74\n",
      "   macro avg       0.81      0.81      0.81        74\n",
      "weighted avg       0.81      0.81      0.81        74\n",
      "\n"
     ]
    }
   ],
   "source": [
    "# KNN for Over Sampling technique\n",
    "\n",
    "KNN.fit(Xover_train, yover_train)\n",
    "knn3pred = KNN.predict(Xover_test)\n",
    "print(confusion_matrix(yover_test, knn3pred))\n",
    "\n",
    "print(KNN.score(Xover_train, yover_train))\n",
    "print(KNN.score(Xover_test, yover_test))\n",
    "\n",
    "from sklearn.metrics import classification_report \n",
    "print(classification_report(yover_test, knn3pred, target_names=target_names))"
   ]
  },
  {
   "cell_type": "code",
   "execution_count": 29,
   "id": "089095a4",
   "metadata": {},
   "outputs": [
    {
     "name": "stdout",
     "output_type": "stream",
     "text": [
      "[[40  1]\n",
      " [ 4 29]]\n",
      "0.9941860465116279\n",
      "0.9324324324324325\n",
      "              precision    recall  f1-score   support\n",
      "\n",
      "         Die       0.91      0.98      0.94        41\n",
      "        Live       0.97      0.88      0.92        33\n",
      "\n",
      "    accuracy                           0.93        74\n",
      "   macro avg       0.94      0.93      0.93        74\n",
      "weighted avg       0.93      0.93      0.93        74\n",
      "\n"
     ]
    }
   ],
   "source": [
    "# RF for Over Sampling technique\n",
    "\n",
    "RF.fit(Xover_train, yover_train)\n",
    "rf3pred = RF.predict(Xover_test)\n",
    "print(confusion_matrix(yover_test, rf3pred))\n",
    "\n",
    "print(RF.score(Xover_train, yover_train))\n",
    "print(RF.score(Xover_test, yover_test))\n",
    "\n",
    "from sklearn.metrics import classification_report \n",
    "print(classification_report(yover_test, rf3pred, target_names=target_names))"
   ]
  },
  {
   "cell_type": "code",
   "execution_count": null,
   "id": "e8bbc319",
   "metadata": {},
   "outputs": [],
   "source": []
  },
  {
   "cell_type": "code",
   "execution_count": null,
   "id": "cbb9c61b",
   "metadata": {},
   "outputs": [],
   "source": []
  },
  {
   "cell_type": "code",
   "execution_count": 30,
   "id": "d0a86147",
   "metadata": {},
   "outputs": [],
   "source": [
    "# Getting features and labels from OverSampling technique so that I can further get a separate balanced data out of it"
   ]
  },
  {
   "cell_type": "code",
   "execution_count": 31,
   "id": "65b7bf1b",
   "metadata": {},
   "outputs": [],
   "source": [
    "rffeature_over_sample, rflabel_over_sample = ros.fit_resample(features_best, labels)\n"
   ]
  },
  {
   "cell_type": "code",
   "execution_count": null,
   "id": "390dff34",
   "metadata": {},
   "outputs": [],
   "source": []
  },
  {
   "cell_type": "code",
   "execution_count": 32,
   "id": "8e43f776",
   "metadata": {},
   "outputs": [],
   "source": [
    "# Using RF now to again check the accuracy cause earlier we did check but it was on Scaled Features.\n",
    "# Since RF is a ensemble technique and also its said that ensemble techniques doesn't require scaling hence building\n",
    "# different model altogether for RF"
   ]
  },
  {
   "cell_type": "code",
   "execution_count": 33,
   "id": "10955abe",
   "metadata": {},
   "outputs": [],
   "source": [
    "X_rftrain,X_rftest, y_rftrain,y_rftest = train_test_split(rffeature_over_sample, rflabel_over_sample, test_size=0.3, random_state=26)"
   ]
  },
  {
   "cell_type": "code",
   "execution_count": 34,
   "id": "1087e2ae",
   "metadata": {},
   "outputs": [
    {
     "name": "stdout",
     "output_type": "stream",
     "text": [
      "[0.91666667 0.85714286 0.91428571 0.77142857 0.91428571 0.97142857\n",
      " 1.        ]\n",
      "0.9064625850340136\n"
     ]
    }
   ],
   "source": [
    "# Computing accuracy using KFold for Over Sampling data WITHOUT Feature Scaling technique\n",
    "\n",
    "# Using Random Forest\n",
    "\n",
    "rf4 = cross_val_score(RF, rffeature_over_sample, rflabel_over_sample, cv = kfold_validation)\n",
    "print(rf4)\n",
    "print(np.mean(rf4))\n"
   ]
  },
  {
   "cell_type": "code",
   "execution_count": 35,
   "id": "90be147a",
   "metadata": {},
   "outputs": [
    {
     "name": "stdout",
     "output_type": "stream",
     "text": [
      "[[42  2]\n",
      " [ 3 27]]\n",
      "0.9883720930232558\n",
      "0.9324324324324325\n",
      "              precision    recall  f1-score   support\n",
      "\n",
      "         Die       0.93      0.95      0.94        44\n",
      "        Live       0.93      0.90      0.92        30\n",
      "\n",
      "    accuracy                           0.93        74\n",
      "   macro avg       0.93      0.93      0.93        74\n",
      "weighted avg       0.93      0.93      0.93        74\n",
      "\n"
     ]
    }
   ],
   "source": [
    "# RF for Over Sampling technique WITHOUT Feature Scaling technique \n",
    "\n",
    "RF.fit(X_rftrain, y_rftrain)\n",
    "rf4pred = RF.predict(X_rftest)\n",
    "print(confusion_matrix(y_rftest, rf4pred))\n",
    "\n",
    "print(RF.score(X_rftrain, y_rftrain))\n",
    "print(RF.score(X_rftest, y_rftest))\n",
    "\n",
    "from sklearn.metrics import classification_report \n",
    "print(classification_report(y_rftest, rf4pred, target_names=target_names))"
   ]
  },
  {
   "cell_type": "code",
   "execution_count": 36,
   "id": "f7ee687c",
   "metadata": {},
   "outputs": [
    {
     "name": "stderr",
     "output_type": "stream",
     "text": [
      "C:\\ProgramData\\Anaconda3\\lib\\site-packages\\sklearn\\utils\\deprecation.py:87: FutureWarning: Function plot_confusion_matrix is deprecated; Function `plot_confusion_matrix` is deprecated in 1.0 and will be removed in 1.2. Use one of the class methods: ConfusionMatrixDisplay.from_predictions or ConfusionMatrixDisplay.from_estimator.\n",
      "  warnings.warn(msg, category=FutureWarning)\n"
     ]
    },
    {
     "data": {
      "text/plain": [
       "<sklearn.metrics._plot.confusion_matrix.ConfusionMatrixDisplay at 0x126d7ec8>"
      ]
     },
     "execution_count": 36,
     "metadata": {},
     "output_type": "execute_result"
    },
    {
     "data": {
      "image/png": "[encoded data removed]",
      "text/plain": [
       "<Figure size 432x288 with 2 Axes>"
      ]
     },
     "metadata": {
      "needs_background": "light"
     },
     "output_type": "display_data"
    }
   ],
   "source": [
    "# Plotting confusion matrix for RF\n",
    "\n",
    "\n",
    "from sklearn.metrics import plot_confusion_matrix\n",
    "plot_confusion_matrix(RF, X_rftest, y_rftest)\n"
   ]
  },
  {
   "cell_type": "code",
   "execution_count": 37,
   "id": "6dee6d68",
   "metadata": {},
   "outputs": [],
   "source": [
    "# TN = 43\n",
    "# TP = 26\n",
    "# FN = 4\n",
    "# FP = 1"
   ]
  },
  {
   "cell_type": "code",
   "execution_count": 80,
   "id": "e556f453",
   "metadata": {},
   "outputs": [],
   "source": [
    "# Using Joblib to save the RF model\n",
    "\n",
    "import joblib\n",
    "model_file_RF = open(\"Random_Forest_Model.pkl\", 'wb')\n",
    "joblib.dump(RF, model_file_RF)\n",
    "model_file_RF.close()"
   ]
  },
  {
   "cell_type": "code",
   "execution_count": null,
   "id": "145a54c0",
   "metadata": {},
   "outputs": [],
   "source": []
  },
  {
   "cell_type": "code",
   "execution_count": 81,
   "id": "a76deb85",
   "metadata": {},
   "outputs": [
    {
     "data": {
      "text/html": [
       "<div>\n",
       "<style scoped>\n",
       "    .dataframe tbody tr th:only-of-type {\n",
       "        vertical-align: middle;\n",
       "    }\n",
       "\n",
       "    .dataframe tbody tr th {\n",
       "        vertical-align: top;\n",
       "    }\n",
       "\n",
       "    .dataframe thead th {\n",
       "        text-align: right;\n",
       "    }\n",
       "</style>\n",
       "<table border=\"1\" class=\"dataframe\">\n",
       "  <thead>\n",
       "    <tr style=\"text-align: right;\">\n",
       "      <th></th>\n",
       "      <th>age</th>\n",
       "      <th>sex</th>\n",
       "      <th>steroid</th>\n",
       "      <th>antivirals</th>\n",
       "      <th>fatigue</th>\n",
       "      <th>spiders</th>\n",
       "      <th>ascites</th>\n",
       "      <th>varices</th>\n",
       "      <th>bilirubin</th>\n",
       "      <th>alk_phosphate</th>\n",
       "      <th>sgot</th>\n",
       "      <th>albumin</th>\n",
       "      <th>protime</th>\n",
       "      <th>histology</th>\n",
       "      <th>class</th>\n",
       "    </tr>\n",
       "  </thead>\n",
       "  <tbody>\n",
       "    <tr>\n",
       "      <th>0</th>\n",
       "      <td>30</td>\n",
       "      <td>2</td>\n",
       "      <td>1</td>\n",
       "      <td>2</td>\n",
       "      <td>2</td>\n",
       "      <td>2</td>\n",
       "      <td>2</td>\n",
       "      <td>2</td>\n",
       "      <td>1.0</td>\n",
       "      <td>85</td>\n",
       "      <td>18</td>\n",
       "      <td>4.0</td>\n",
       "      <td>35</td>\n",
       "      <td>1</td>\n",
       "      <td>2</td>\n",
       "    </tr>\n",
       "    <tr>\n",
       "      <th>1</th>\n",
       "      <td>50</td>\n",
       "      <td>1</td>\n",
       "      <td>1</td>\n",
       "      <td>2</td>\n",
       "      <td>1</td>\n",
       "      <td>2</td>\n",
       "      <td>2</td>\n",
       "      <td>2</td>\n",
       "      <td>0.9</td>\n",
       "      <td>135</td>\n",
       "      <td>42</td>\n",
       "      <td>3.5</td>\n",
       "      <td>35</td>\n",
       "      <td>1</td>\n",
       "      <td>2</td>\n",
       "    </tr>\n",
       "    <tr>\n",
       "      <th>2</th>\n",
       "      <td>78</td>\n",
       "      <td>1</td>\n",
       "      <td>2</td>\n",
       "      <td>2</td>\n",
       "      <td>1</td>\n",
       "      <td>2</td>\n",
       "      <td>2</td>\n",
       "      <td>2</td>\n",
       "      <td>0.7</td>\n",
       "      <td>96</td>\n",
       "      <td>32</td>\n",
       "      <td>4.0</td>\n",
       "      <td>35</td>\n",
       "      <td>1</td>\n",
       "      <td>2</td>\n",
       "    </tr>\n",
       "    <tr>\n",
       "      <th>3</th>\n",
       "      <td>31</td>\n",
       "      <td>1</td>\n",
       "      <td>2</td>\n",
       "      <td>1</td>\n",
       "      <td>2</td>\n",
       "      <td>2</td>\n",
       "      <td>2</td>\n",
       "      <td>2</td>\n",
       "      <td>0.7</td>\n",
       "      <td>46</td>\n",
       "      <td>52</td>\n",
       "      <td>4.0</td>\n",
       "      <td>80</td>\n",
       "      <td>1</td>\n",
       "      <td>2</td>\n",
       "    </tr>\n",
       "    <tr>\n",
       "      <th>4</th>\n",
       "      <td>34</td>\n",
       "      <td>1</td>\n",
       "      <td>2</td>\n",
       "      <td>2</td>\n",
       "      <td>2</td>\n",
       "      <td>2</td>\n",
       "      <td>2</td>\n",
       "      <td>2</td>\n",
       "      <td>1.0</td>\n",
       "      <td>84</td>\n",
       "      <td>200</td>\n",
       "      <td>4.0</td>\n",
       "      <td>35</td>\n",
       "      <td>1</td>\n",
       "      <td>2</td>\n",
       "    </tr>\n",
       "  </tbody>\n",
       "</table>\n",
       "</div>"
      ],
      "text/plain": [
       "   age  sex  steroid  antivirals  fatigue  spiders  ascites  varices  \\\n",
       "0   30    2        1           2        2        2        2        2   \n",
       "1   50    1        1           2        1        2        2        2   \n",
       "2   78    1        2           2        1        2        2        2   \n",
       "3   31    1        2           1        2        2        2        2   \n",
       "4   34    1        2           2        2        2        2        2   \n",
       "\n",
       "   bilirubin  alk_phosphate  sgot  albumin  protime  histology  class  \n",
       "0        1.0             85    18      4.0       35          1      2  \n",
       "1        0.9            135    42      3.5       35          1      2  \n",
       "2        0.7             96    32      4.0       35          1      2  \n",
       "3        0.7             46    52      4.0       80          1      2  \n",
       "4        1.0             84   200      4.0       35          1      2  "
      ]
     },
     "execution_count": 81,
     "metadata": {},
     "output_type": "execute_result"
    }
   ],
   "source": [
    "# balanced_data = pd.concat([rffeature_over_sample, rflabel_over_sample], axis='columns') \n",
    "# balanced_data.head()\n"
   ]
  },
  {
   "cell_type": "code",
   "execution_count": 82,
   "id": "b2386b96",
   "metadata": {},
   "outputs": [
    {
     "data": {
      "text/plain": [
       "(246, 15)"
      ]
     },
     "execution_count": 82,
     "metadata": {},
     "output_type": "execute_result"
    }
   ],
   "source": [
    "#balanced_data.shape"
   ]
  },
  {
   "cell_type": "code",
   "execution_count": 83,
   "id": "00c2971e",
   "metadata": {},
   "outputs": [],
   "source": [
    "#balanced_data.to_csv(\"D:/Softwares/DS/Project/Hepatitis/Original data/balanced_data.csv\")"
   ]
  },
  {
   "cell_type": "code",
   "execution_count": null,
   "id": "ca890fdb",
   "metadata": {},
   "outputs": [],
   "source": []
  },
  {
   "cell_type": "code",
   "execution_count": null,
   "id": "e7693f9f",
   "metadata": {},
   "outputs": [],
   "source": []
  },
  {
   "cell_type": "code",
   "execution_count": null,
   "id": "b0fd0b05",
   "metadata": {},
   "outputs": [],
   "source": []
  },
  {
   "cell_type": "code",
   "execution_count": null,
   "id": "389a9346",
   "metadata": {},
   "outputs": [],
   "source": []
  },
  {
   "cell_type": "code",
   "execution_count": null,
   "id": "4874410c",
   "metadata": {},
   "outputs": [],
   "source": []
  }
 ],
 "metadata": {
  "kernelspec": {
   "display_name": "Python 3",
   "language": "python",
   "name": "python3"
  },
  "language_info": {
   "codemirror_mode": {
    "name": "ipython",
    "version": 3
   },
   "file_extension": ".py",
   "mimetype": "text/x-python",
   "name": "python",
   "nbconvert_exporter": "python",
   "pygments_lexer": "ipython3",
   "version": "3.7.6"
  }
 },
 "nbformat": 4,
 "nbformat_minor": 5
}
